{
 "cells": [
  {
   "cell_type": "code",
   "execution_count": 1,
   "metadata": {
    "collapsed": false
   },
   "outputs": [],
   "source": [
    "import pandas as pd\n",
    "import numpy as np"
   ]
  },
  {
   "cell_type": "code",
   "execution_count": 6,
   "metadata": {
    "collapsed": false
   },
   "outputs": [],
   "source": [
    "census = pd.read_csv('/Users/auroraleport/Documents/DO_box/Capstone/ss14pca.csv')\n",
    "#from link below go to: 2014 ACS 1-year PUMS, California Population Records\n",
    "#http://www.census.gov/programs-surveys/acs/data/pums.html"
   ]
  },
  {
   "cell_type": "code",
   "execution_count": 7,
   "metadata": {
    "collapsed": false
   },
   "outputs": [
    {
     "data": {
      "text/html": [
       "<div>\n",
       "<table border=\"1\" class=\"dataframe\">\n",
       "  <thead>\n",
       "    <tr style=\"text-align: right;\">\n",
       "      <th></th>\n",
       "      <th>RT</th>\n",
       "      <th>SERIALNO</th>\n",
       "      <th>SPORDER</th>\n",
       "      <th>PUMA</th>\n",
       "      <th>ST</th>\n",
       "      <th>ADJINC</th>\n",
       "      <th>PWGTP</th>\n",
       "      <th>AGEP</th>\n",
       "      <th>CIT</th>\n",
       "      <th>CITWP</th>\n",
       "      <th>...</th>\n",
       "      <th>pwgtp71</th>\n",
       "      <th>pwgtp72</th>\n",
       "      <th>pwgtp73</th>\n",
       "      <th>pwgtp74</th>\n",
       "      <th>pwgtp75</th>\n",
       "      <th>pwgtp76</th>\n",
       "      <th>pwgtp77</th>\n",
       "      <th>pwgtp78</th>\n",
       "      <th>pwgtp79</th>\n",
       "      <th>pwgtp80</th>\n",
       "    </tr>\n",
       "  </thead>\n",
       "  <tbody>\n",
       "    <tr>\n",
       "      <th>0</th>\n",
       "      <td>P</td>\n",
       "      <td>18</td>\n",
       "      <td>1</td>\n",
       "      <td>8513</td>\n",
       "      <td>6</td>\n",
       "      <td>1008425</td>\n",
       "      <td>139</td>\n",
       "      <td>54</td>\n",
       "      <td>1</td>\n",
       "      <td></td>\n",
       "      <td>...</td>\n",
       "      <td>142</td>\n",
       "      <td>155</td>\n",
       "      <td>39</td>\n",
       "      <td>37</td>\n",
       "      <td>215</td>\n",
       "      <td>196</td>\n",
       "      <td>39</td>\n",
       "      <td>121</td>\n",
       "      <td>225</td>\n",
       "      <td>146</td>\n",
       "    </tr>\n",
       "    <tr>\n",
       "      <th>1</th>\n",
       "      <td>P</td>\n",
       "      <td>18</td>\n",
       "      <td>2</td>\n",
       "      <td>8513</td>\n",
       "      <td>6</td>\n",
       "      <td>1008425</td>\n",
       "      <td>216</td>\n",
       "      <td>36</td>\n",
       "      <td>1</td>\n",
       "      <td></td>\n",
       "      <td>...</td>\n",
       "      <td>217</td>\n",
       "      <td>244</td>\n",
       "      <td>57</td>\n",
       "      <td>67</td>\n",
       "      <td>350</td>\n",
       "      <td>358</td>\n",
       "      <td>61</td>\n",
       "      <td>191</td>\n",
       "      <td>299</td>\n",
       "      <td>241</td>\n",
       "    </tr>\n",
       "    <tr>\n",
       "      <th>2</th>\n",
       "      <td>P</td>\n",
       "      <td>52</td>\n",
       "      <td>1</td>\n",
       "      <td>7301</td>\n",
       "      <td>6</td>\n",
       "      <td>1008425</td>\n",
       "      <td>260</td>\n",
       "      <td>47</td>\n",
       "      <td>1</td>\n",
       "      <td></td>\n",
       "      <td>...</td>\n",
       "      <td>484</td>\n",
       "      <td>498</td>\n",
       "      <td>59</td>\n",
       "      <td>72</td>\n",
       "      <td>431</td>\n",
       "      <td>328</td>\n",
       "      <td>69</td>\n",
       "      <td>399</td>\n",
       "      <td>413</td>\n",
       "      <td>284</td>\n",
       "    </tr>\n",
       "    <tr>\n",
       "      <th>3</th>\n",
       "      <td>P</td>\n",
       "      <td>52</td>\n",
       "      <td>2</td>\n",
       "      <td>7301</td>\n",
       "      <td>6</td>\n",
       "      <td>1008425</td>\n",
       "      <td>312</td>\n",
       "      <td>20</td>\n",
       "      <td>1</td>\n",
       "      <td></td>\n",
       "      <td>...</td>\n",
       "      <td>476</td>\n",
       "      <td>503</td>\n",
       "      <td>86</td>\n",
       "      <td>86</td>\n",
       "      <td>503</td>\n",
       "      <td>317</td>\n",
       "      <td>102</td>\n",
       "      <td>453</td>\n",
       "      <td>499</td>\n",
       "      <td>319</td>\n",
       "    </tr>\n",
       "    <tr>\n",
       "      <th>4</th>\n",
       "      <td>P</td>\n",
       "      <td>52</td>\n",
       "      <td>3</td>\n",
       "      <td>7301</td>\n",
       "      <td>6</td>\n",
       "      <td>1008425</td>\n",
       "      <td>252</td>\n",
       "      <td>0</td>\n",
       "      <td>1</td>\n",
       "      <td></td>\n",
       "      <td>...</td>\n",
       "      <td>510</td>\n",
       "      <td>437</td>\n",
       "      <td>66</td>\n",
       "      <td>65</td>\n",
       "      <td>413</td>\n",
       "      <td>283</td>\n",
       "      <td>76</td>\n",
       "      <td>374</td>\n",
       "      <td>381</td>\n",
       "      <td>247</td>\n",
       "    </tr>\n",
       "  </tbody>\n",
       "</table>\n",
       "<p>5 rows × 284 columns</p>\n",
       "</div>"
      ],
      "text/plain": [
       "  RT  SERIALNO  SPORDER  PUMA  ST   ADJINC  PWGTP  AGEP  CIT CITWP   ...     \\\n",
       "0  P        18        1  8513   6  1008425    139    54    1         ...      \n",
       "1  P        18        2  8513   6  1008425    216    36    1         ...      \n",
       "2  P        52        1  7301   6  1008425    260    47    1         ...      \n",
       "3  P        52        2  7301   6  1008425    312    20    1         ...      \n",
       "4  P        52        3  7301   6  1008425    252     0    1         ...      \n",
       "\n",
       "   pwgtp71  pwgtp72  pwgtp73  pwgtp74  pwgtp75  pwgtp76  pwgtp77  pwgtp78  \\\n",
       "0      142      155       39       37      215      196       39      121   \n",
       "1      217      244       57       67      350      358       61      191   \n",
       "2      484      498       59       72      431      328       69      399   \n",
       "3      476      503       86       86      503      317      102      453   \n",
       "4      510      437       66       65      413      283       76      374   \n",
       "\n",
       "   pwgtp79  pwgtp80  \n",
       "0      225      146  \n",
       "1      299      241  \n",
       "2      413      284  \n",
       "3      499      319  \n",
       "4      381      247  \n",
       "\n",
       "[5 rows x 284 columns]"
      ]
     },
     "execution_count": 7,
     "metadata": {},
     "output_type": "execute_result"
    }
   ],
   "source": [
    "census.head()"
   ]
  },
  {
   "cell_type": "code",
   "execution_count": 8,
   "metadata": {
    "collapsed": false
   },
   "outputs": [
    {
     "data": {
      "text/html": [
       "<div>\n",
       "<table border=\"1\" class=\"dataframe\">\n",
       "  <thead>\n",
       "    <tr style=\"text-align: right;\">\n",
       "      <th></th>\n",
       "      <th>SERIALNO</th>\n",
       "      <th>SPORDER</th>\n",
       "      <th>PUMA</th>\n",
       "      <th>ST</th>\n",
       "      <th>ADJINC</th>\n",
       "      <th>PWGTP</th>\n",
       "      <th>AGEP</th>\n",
       "      <th>CIT</th>\n",
       "      <th>COW</th>\n",
       "      <th>DDRS</th>\n",
       "      <th>...</th>\n",
       "      <th>pwgtp71</th>\n",
       "      <th>pwgtp72</th>\n",
       "      <th>pwgtp73</th>\n",
       "      <th>pwgtp74</th>\n",
       "      <th>pwgtp75</th>\n",
       "      <th>pwgtp76</th>\n",
       "      <th>pwgtp77</th>\n",
       "      <th>pwgtp78</th>\n",
       "      <th>pwgtp79</th>\n",
       "      <th>pwgtp80</th>\n",
       "    </tr>\n",
       "  </thead>\n",
       "  <tbody>\n",
       "    <tr>\n",
       "      <th>count</th>\n",
       "      <td>3.725530e+05</td>\n",
       "      <td>372553.000000</td>\n",
       "      <td>372553.000000</td>\n",
       "      <td>372553.0</td>\n",
       "      <td>372553.0</td>\n",
       "      <td>372553.000000</td>\n",
       "      <td>372553.000000</td>\n",
       "      <td>372553.000000</td>\n",
       "      <td>214377.000000</td>\n",
       "      <td>352227.000000</td>\n",
       "      <td>...</td>\n",
       "      <td>372553.000000</td>\n",
       "      <td>372553.000000</td>\n",
       "      <td>372553.000000</td>\n",
       "      <td>372553.000000</td>\n",
       "      <td>372553.000000</td>\n",
       "      <td>372553.000000</td>\n",
       "      <td>372553.000000</td>\n",
       "      <td>372553.000000</td>\n",
       "      <td>372553.000000</td>\n",
       "      <td>372553.000000</td>\n",
       "    </tr>\n",
       "    <tr>\n",
       "      <th>mean</th>\n",
       "      <td>7.529792e+05</td>\n",
       "      <td>2.293856</td>\n",
       "      <td>5474.575456</td>\n",
       "      <td>6.0</td>\n",
       "      <td>1008425.0</td>\n",
       "      <td>104.152966</td>\n",
       "      <td>39.228494</td>\n",
       "      <td>1.937665</td>\n",
       "      <td>2.250633</td>\n",
       "      <td>1.966505</td>\n",
       "      <td>...</td>\n",
       "      <td>104.152966</td>\n",
       "      <td>104.152966</td>\n",
       "      <td>104.152966</td>\n",
       "      <td>104.152966</td>\n",
       "      <td>104.152966</td>\n",
       "      <td>104.152966</td>\n",
       "      <td>104.152966</td>\n",
       "      <td>104.152966</td>\n",
       "      <td>104.152966</td>\n",
       "      <td>104.152966</td>\n",
       "    </tr>\n",
       "    <tr>\n",
       "      <th>std</th>\n",
       "      <td>4.331871e+05</td>\n",
       "      <td>1.524361</td>\n",
       "      <td>2684.487332</td>\n",
       "      <td>0.0</td>\n",
       "      <td>0.0</td>\n",
       "      <td>74.193537</td>\n",
       "      <td>23.053156</td>\n",
       "      <td>1.550141</td>\n",
       "      <td>2.045759</td>\n",
       "      <td>0.179927</td>\n",
       "      <td>...</td>\n",
       "      <td>97.377864</td>\n",
       "      <td>97.702491</td>\n",
       "      <td>95.890842</td>\n",
       "      <td>97.422989</td>\n",
       "      <td>96.144955</td>\n",
       "      <td>96.392563</td>\n",
       "      <td>96.612001</td>\n",
       "      <td>96.429792</td>\n",
       "      <td>94.999012</td>\n",
       "      <td>97.635705</td>\n",
       "    </tr>\n",
       "    <tr>\n",
       "      <th>min</th>\n",
       "      <td>1.800000e+01</td>\n",
       "      <td>1.000000</td>\n",
       "      <td>101.000000</td>\n",
       "      <td>6.0</td>\n",
       "      <td>1008425.0</td>\n",
       "      <td>1.000000</td>\n",
       "      <td>0.000000</td>\n",
       "      <td>1.000000</td>\n",
       "      <td>1.000000</td>\n",
       "      <td>1.000000</td>\n",
       "      <td>...</td>\n",
       "      <td>0.000000</td>\n",
       "      <td>0.000000</td>\n",
       "      <td>0.000000</td>\n",
       "      <td>0.000000</td>\n",
       "      <td>0.000000</td>\n",
       "      <td>0.000000</td>\n",
       "      <td>0.000000</td>\n",
       "      <td>0.000000</td>\n",
       "      <td>0.000000</td>\n",
       "      <td>0.000000</td>\n",
       "    </tr>\n",
       "    <tr>\n",
       "      <th>25%</th>\n",
       "      <td>3.777150e+05</td>\n",
       "      <td>1.000000</td>\n",
       "      <td>3723.000000</td>\n",
       "      <td>6.0</td>\n",
       "      <td>1008425.0</td>\n",
       "      <td>60.000000</td>\n",
       "      <td>20.000000</td>\n",
       "      <td>1.000000</td>\n",
       "      <td>1.000000</td>\n",
       "      <td>2.000000</td>\n",
       "      <td>...</td>\n",
       "      <td>40.000000</td>\n",
       "      <td>40.000000</td>\n",
       "      <td>42.000000</td>\n",
       "      <td>40.000000</td>\n",
       "      <td>42.000000</td>\n",
       "      <td>41.000000</td>\n",
       "      <td>41.000000</td>\n",
       "      <td>41.000000</td>\n",
       "      <td>43.000000</td>\n",
       "      <td>40.000000</td>\n",
       "    </tr>\n",
       "    <tr>\n",
       "      <th>50%</th>\n",
       "      <td>7.536330e+05</td>\n",
       "      <td>2.000000</td>\n",
       "      <td>5908.000000</td>\n",
       "      <td>6.0</td>\n",
       "      <td>1008425.0</td>\n",
       "      <td>80.000000</td>\n",
       "      <td>39.000000</td>\n",
       "      <td>1.000000</td>\n",
       "      <td>1.000000</td>\n",
       "      <td>2.000000</td>\n",
       "      <td>...</td>\n",
       "      <td>77.000000</td>\n",
       "      <td>77.000000</td>\n",
       "      <td>77.000000</td>\n",
       "      <td>77.000000</td>\n",
       "      <td>77.000000</td>\n",
       "      <td>77.000000</td>\n",
       "      <td>77.000000</td>\n",
       "      <td>77.000000</td>\n",
       "      <td>78.000000</td>\n",
       "      <td>77.000000</td>\n",
       "    </tr>\n",
       "    <tr>\n",
       "      <th>75%</th>\n",
       "      <td>1.129541e+06</td>\n",
       "      <td>3.000000</td>\n",
       "      <td>7315.000000</td>\n",
       "      <td>6.0</td>\n",
       "      <td>1008425.0</td>\n",
       "      <td>126.000000</td>\n",
       "      <td>57.000000</td>\n",
       "      <td>4.000000</td>\n",
       "      <td>3.000000</td>\n",
       "      <td>2.000000</td>\n",
       "      <td>...</td>\n",
       "      <td>132.000000</td>\n",
       "      <td>132.000000</td>\n",
       "      <td>132.000000</td>\n",
       "      <td>132.000000</td>\n",
       "      <td>132.000000</td>\n",
       "      <td>132.000000</td>\n",
       "      <td>132.000000</td>\n",
       "      <td>132.000000</td>\n",
       "      <td>131.000000</td>\n",
       "      <td>132.000000</td>\n",
       "    </tr>\n",
       "    <tr>\n",
       "      <th>max</th>\n",
       "      <td>1.501118e+06</td>\n",
       "      <td>20.000000</td>\n",
       "      <td>11300.000000</td>\n",
       "      <td>6.0</td>\n",
       "      <td>1008425.0</td>\n",
       "      <td>2358.000000</td>\n",
       "      <td>94.000000</td>\n",
       "      <td>5.000000</td>\n",
       "      <td>9.000000</td>\n",
       "      <td>2.000000</td>\n",
       "      <td>...</td>\n",
       "      <td>4074.000000</td>\n",
       "      <td>2008.000000</td>\n",
       "      <td>2238.000000</td>\n",
       "      <td>4605.000000</td>\n",
       "      <td>2428.000000</td>\n",
       "      <td>2400.000000</td>\n",
       "      <td>4619.000000</td>\n",
       "      <td>2354.000000</td>\n",
       "      <td>4340.000000</td>\n",
       "      <td>4424.000000</td>\n",
       "    </tr>\n",
       "  </tbody>\n",
       "</table>\n",
       "<p>8 rows × 264 columns</p>\n",
       "</div>"
      ],
      "text/plain": [
       "           SERIALNO        SPORDER           PUMA        ST     ADJINC  \\\n",
       "count  3.725530e+05  372553.000000  372553.000000  372553.0   372553.0   \n",
       "mean   7.529792e+05       2.293856    5474.575456       6.0  1008425.0   \n",
       "std    4.331871e+05       1.524361    2684.487332       0.0        0.0   \n",
       "min    1.800000e+01       1.000000     101.000000       6.0  1008425.0   \n",
       "25%    3.777150e+05       1.000000    3723.000000       6.0  1008425.0   \n",
       "50%    7.536330e+05       2.000000    5908.000000       6.0  1008425.0   \n",
       "75%    1.129541e+06       3.000000    7315.000000       6.0  1008425.0   \n",
       "max    1.501118e+06      20.000000   11300.000000       6.0  1008425.0   \n",
       "\n",
       "               PWGTP           AGEP            CIT            COW  \\\n",
       "count  372553.000000  372553.000000  372553.000000  214377.000000   \n",
       "mean      104.152966      39.228494       1.937665       2.250633   \n",
       "std        74.193537      23.053156       1.550141       2.045759   \n",
       "min         1.000000       0.000000       1.000000       1.000000   \n",
       "25%        60.000000      20.000000       1.000000       1.000000   \n",
       "50%        80.000000      39.000000       1.000000       1.000000   \n",
       "75%       126.000000      57.000000       4.000000       3.000000   \n",
       "max      2358.000000      94.000000       5.000000       9.000000   \n",
       "\n",
       "                DDRS      ...              pwgtp71        pwgtp72  \\\n",
       "count  352227.000000      ...        372553.000000  372553.000000   \n",
       "mean        1.966505      ...           104.152966     104.152966   \n",
       "std         0.179927      ...            97.377864      97.702491   \n",
       "min         1.000000      ...             0.000000       0.000000   \n",
       "25%         2.000000      ...            40.000000      40.000000   \n",
       "50%         2.000000      ...            77.000000      77.000000   \n",
       "75%         2.000000      ...           132.000000     132.000000   \n",
       "max         2.000000      ...          4074.000000    2008.000000   \n",
       "\n",
       "             pwgtp73        pwgtp74        pwgtp75        pwgtp76  \\\n",
       "count  372553.000000  372553.000000  372553.000000  372553.000000   \n",
       "mean      104.152966     104.152966     104.152966     104.152966   \n",
       "std        95.890842      97.422989      96.144955      96.392563   \n",
       "min         0.000000       0.000000       0.000000       0.000000   \n",
       "25%        42.000000      40.000000      42.000000      41.000000   \n",
       "50%        77.000000      77.000000      77.000000      77.000000   \n",
       "75%       132.000000     132.000000     132.000000     132.000000   \n",
       "max      2238.000000    4605.000000    2428.000000    2400.000000   \n",
       "\n",
       "             pwgtp77        pwgtp78        pwgtp79        pwgtp80  \n",
       "count  372553.000000  372553.000000  372553.000000  372553.000000  \n",
       "mean      104.152966     104.152966     104.152966     104.152966  \n",
       "std        96.612001      96.429792      94.999012      97.635705  \n",
       "min         0.000000       0.000000       0.000000       0.000000  \n",
       "25%        41.000000      41.000000      43.000000      40.000000  \n",
       "50%        77.000000      77.000000      78.000000      77.000000  \n",
       "75%       132.000000     132.000000     131.000000     132.000000  \n",
       "max      4619.000000    2354.000000    4340.000000    4424.000000  \n",
       "\n",
       "[8 rows x 264 columns]"
      ]
     },
     "execution_count": 8,
     "metadata": {},
     "output_type": "execute_result"
    }
   ],
   "source": [
    "census.describe()"
   ]
  },
  {
   "cell_type": "code",
   "execution_count": 9,
   "metadata": {
    "collapsed": false
   },
   "outputs": [],
   "source": [
    "#Columns related to seniors useful towards ride-share companies: \n",
    "#SERIALNO, SPORDER, PUMA, REGION, ST, AGEP, DDRS, DEAR, DEYE, DOUT, DPHY, DRAT, DREM, \n",
    "#HINS4, JWMNP, JWTR, MAR, MARHW, OIP, PAP, RETP, SEX, SSP, WAGP, DIS, DRIVESP, HICOV "
   ]
  },
  {
   "cell_type": "code",
   "execution_count": 9,
   "metadata": {
    "collapsed": false
   },
   "outputs": [],
   "source": [
    "census65 = census[(census.AGEP >= 65)] #census data of only those 65 and older."
   ]
  },
  {
   "cell_type": "code",
   "execution_count": 7,
   "metadata": {
    "collapsed": false
   },
   "outputs": [
    {
     "data": {
      "text/html": [
       "<div style=\"max-height:1000px;max-width:1500px;overflow:auto;\">\n",
       "<table border=\"1\" class=\"dataframe\">\n",
       "  <thead>\n",
       "    <tr style=\"text-align: right;\">\n",
       "      <th></th>\n",
       "      <th>SERIALNO</th>\n",
       "      <th>SPORDER</th>\n",
       "      <th>PUMA</th>\n",
       "      <th>ST</th>\n",
       "      <th>ADJINC</th>\n",
       "      <th>PWGTP</th>\n",
       "      <th>AGEP</th>\n",
       "      <th>CIT</th>\n",
       "      <th>COW</th>\n",
       "      <th>DDRS</th>\n",
       "      <th>...</th>\n",
       "      <th>pwgtp71</th>\n",
       "      <th>pwgtp72</th>\n",
       "      <th>pwgtp73</th>\n",
       "      <th>pwgtp74</th>\n",
       "      <th>pwgtp75</th>\n",
       "      <th>pwgtp76</th>\n",
       "      <th>pwgtp77</th>\n",
       "      <th>pwgtp78</th>\n",
       "      <th>pwgtp79</th>\n",
       "      <th>pwgtp80</th>\n",
       "    </tr>\n",
       "  </thead>\n",
       "  <tbody>\n",
       "    <tr>\n",
       "      <th>count</th>\n",
       "      <td>   58154.000000</td>\n",
       "      <td> 58154.000000</td>\n",
       "      <td> 58154.000000</td>\n",
       "      <td> 58154</td>\n",
       "      <td>   58154.000000</td>\n",
       "      <td> 58154.000000</td>\n",
       "      <td> 58154.000000</td>\n",
       "      <td> 58154.000000</td>\n",
       "      <td> 18793.000000</td>\n",
       "      <td> 58154.000000</td>\n",
       "      <td>...</td>\n",
       "      <td> 58154.000000</td>\n",
       "      <td> 58154.000000</td>\n",
       "      <td> 58154.000000</td>\n",
       "      <td> 58154.000000</td>\n",
       "      <td> 58154.000000</td>\n",
       "      <td> 58154.000000</td>\n",
       "      <td> 58154.000000</td>\n",
       "      <td> 58154.000000</td>\n",
       "      <td> 58154.000000</td>\n",
       "      <td> 58154.000000</td>\n",
       "    </tr>\n",
       "    <tr>\n",
       "      <th>mean</th>\n",
       "      <td>  752743.271727</td>\n",
       "      <td>     1.605805</td>\n",
       "      <td>  5517.502562</td>\n",
       "      <td>     6</td>\n",
       "      <td> 1008425.000000</td>\n",
       "      <td>    85.886491</td>\n",
       "      <td>    74.695464</td>\n",
       "      <td>     1.974705</td>\n",
       "      <td>     2.944022</td>\n",
       "      <td>     1.883327</td>\n",
       "      <td>...</td>\n",
       "      <td>    85.844018</td>\n",
       "      <td>    85.928741</td>\n",
       "      <td>    85.882880</td>\n",
       "      <td>    85.869760</td>\n",
       "      <td>    85.875795</td>\n",
       "      <td>    85.813409</td>\n",
       "      <td>    85.945902</td>\n",
       "      <td>    85.953933</td>\n",
       "      <td>    85.907332</td>\n",
       "      <td>    85.895192</td>\n",
       "    </tr>\n",
       "    <tr>\n",
       "      <th>std</th>\n",
       "      <td>  433950.257281</td>\n",
       "      <td>     1.122441</td>\n",
       "      <td>  2719.512754</td>\n",
       "      <td>     0</td>\n",
       "      <td>       0.011729</td>\n",
       "      <td>    58.373772</td>\n",
       "      <td>     7.869019</td>\n",
       "      <td>     1.497427</td>\n",
       "      <td>     2.255464</td>\n",
       "      <td>     0.321033</td>\n",
       "      <td>...</td>\n",
       "      <td>    77.667171</td>\n",
       "      <td>    77.858660</td>\n",
       "      <td>    75.838684</td>\n",
       "      <td>    77.875473</td>\n",
       "      <td>    76.747467</td>\n",
       "      <td>    76.774422</td>\n",
       "      <td>    77.658935</td>\n",
       "      <td>    77.688309</td>\n",
       "      <td>    75.916360</td>\n",
       "      <td>    78.512048</td>\n",
       "    </tr>\n",
       "    <tr>\n",
       "      <th>min</th>\n",
       "      <td>     133.000000</td>\n",
       "      <td>     1.000000</td>\n",
       "      <td>   101.000000</td>\n",
       "      <td>     6</td>\n",
       "      <td> 1008425.000000</td>\n",
       "      <td>     2.000000</td>\n",
       "      <td>    65.000000</td>\n",
       "      <td>     1.000000</td>\n",
       "      <td>     1.000000</td>\n",
       "      <td>     1.000000</td>\n",
       "      <td>...</td>\n",
       "      <td>     0.000000</td>\n",
       "      <td>     0.000000</td>\n",
       "      <td>     0.000000</td>\n",
       "      <td>     0.000000</td>\n",
       "      <td>     0.000000</td>\n",
       "      <td>     0.000000</td>\n",
       "      <td>     0.000000</td>\n",
       "      <td>     0.000000</td>\n",
       "      <td>     0.000000</td>\n",
       "      <td>     0.000000</td>\n",
       "    </tr>\n",
       "    <tr>\n",
       "      <th>25%</th>\n",
       "      <td>  375935.000000</td>\n",
       "      <td>     1.000000</td>\n",
       "      <td>  3723.000000</td>\n",
       "      <td>     6</td>\n",
       "      <td> 1008425.000000</td>\n",
       "      <td>    55.000000</td>\n",
       "      <td>    68.000000</td>\n",
       "      <td>     1.000000</td>\n",
       "      <td>     1.000000</td>\n",
       "      <td>     2.000000</td>\n",
       "      <td>...</td>\n",
       "      <td>    33.000000</td>\n",
       "      <td>    32.000000</td>\n",
       "      <td>    35.000000</td>\n",
       "      <td>    33.000000</td>\n",
       "      <td>    34.000000</td>\n",
       "      <td>    35.000000</td>\n",
       "      <td>    34.000000</td>\n",
       "      <td>    34.000000</td>\n",
       "      <td>    36.000000</td>\n",
       "      <td>    33.000000</td>\n",
       "    </tr>\n",
       "    <tr>\n",
       "      <th>50%</th>\n",
       "      <td>  756658.000000</td>\n",
       "      <td>     1.000000</td>\n",
       "      <td>  5910.000000</td>\n",
       "      <td>     6</td>\n",
       "      <td> 1008425.000000</td>\n",
       "      <td>    70.000000</td>\n",
       "      <td>    73.000000</td>\n",
       "      <td>     1.000000</td>\n",
       "      <td>     2.000000</td>\n",
       "      <td>     2.000000</td>\n",
       "      <td>...</td>\n",
       "      <td>    67.000000</td>\n",
       "      <td>    67.000000</td>\n",
       "      <td>    67.000000</td>\n",
       "      <td>    67.000000</td>\n",
       "      <td>    67.000000</td>\n",
       "      <td>    67.000000</td>\n",
       "      <td>    67.000000</td>\n",
       "      <td>    67.000000</td>\n",
       "      <td>    68.000000</td>\n",
       "      <td>    67.000000</td>\n",
       "    </tr>\n",
       "    <tr>\n",
       "      <th>75%</th>\n",
       "      <td> 1127479.500000</td>\n",
       "      <td>     2.000000</td>\n",
       "      <td>  7318.000000</td>\n",
       "      <td>     6</td>\n",
       "      <td> 1008425.000000</td>\n",
       "      <td>   103.000000</td>\n",
       "      <td>    80.000000</td>\n",
       "      <td>     4.000000</td>\n",
       "      <td>     6.000000</td>\n",
       "      <td>     2.000000</td>\n",
       "      <td>...</td>\n",
       "      <td>   111.000000</td>\n",
       "      <td>   111.000000</td>\n",
       "      <td>   111.000000</td>\n",
       "      <td>   110.000000</td>\n",
       "      <td>   111.000000</td>\n",
       "      <td>   110.000000</td>\n",
       "      <td>   110.750000</td>\n",
       "      <td>   111.000000</td>\n",
       "      <td>   110.000000</td>\n",
       "      <td>   111.000000</td>\n",
       "    </tr>\n",
       "    <tr>\n",
       "      <th>max</th>\n",
       "      <td> 1501118.000000</td>\n",
       "      <td>    15.000000</td>\n",
       "      <td> 11300.000000</td>\n",
       "      <td>     6</td>\n",
       "      <td> 1008425.000000</td>\n",
       "      <td>   997.000000</td>\n",
       "      <td>    94.000000</td>\n",
       "      <td>     5.000000</td>\n",
       "      <td>     9.000000</td>\n",
       "      <td>     2.000000</td>\n",
       "      <td>...</td>\n",
       "      <td>  1113.000000</td>\n",
       "      <td>  1335.000000</td>\n",
       "      <td>   904.000000</td>\n",
       "      <td>  1098.000000</td>\n",
       "      <td>  1139.000000</td>\n",
       "      <td>  1114.000000</td>\n",
       "      <td>  1671.000000</td>\n",
       "      <td>  1630.000000</td>\n",
       "      <td>  1070.000000</td>\n",
       "      <td>  1218.000000</td>\n",
       "    </tr>\n",
       "  </tbody>\n",
       "</table>\n",
       "<p>8 rows × 264 columns</p>\n",
       "</div>"
      ],
      "text/plain": [
       "             SERIALNO       SPORDER          PUMA     ST          ADJINC  \\\n",
       "count    58154.000000  58154.000000  58154.000000  58154    58154.000000   \n",
       "mean    752743.271727      1.605805   5517.502562      6  1008425.000000   \n",
       "std     433950.257281      1.122441   2719.512754      0        0.011729   \n",
       "min        133.000000      1.000000    101.000000      6  1008425.000000   \n",
       "25%     375935.000000      1.000000   3723.000000      6  1008425.000000   \n",
       "50%     756658.000000      1.000000   5910.000000      6  1008425.000000   \n",
       "75%    1127479.500000      2.000000   7318.000000      6  1008425.000000   \n",
       "max    1501118.000000     15.000000  11300.000000      6  1008425.000000   \n",
       "\n",
       "              PWGTP          AGEP           CIT           COW          DDRS  \\\n",
       "count  58154.000000  58154.000000  58154.000000  18793.000000  58154.000000   \n",
       "mean      85.886491     74.695464      1.974705      2.944022      1.883327   \n",
       "std       58.373772      7.869019      1.497427      2.255464      0.321033   \n",
       "min        2.000000     65.000000      1.000000      1.000000      1.000000   \n",
       "25%       55.000000     68.000000      1.000000      1.000000      2.000000   \n",
       "50%       70.000000     73.000000      1.000000      2.000000      2.000000   \n",
       "75%      103.000000     80.000000      4.000000      6.000000      2.000000   \n",
       "max      997.000000     94.000000      5.000000      9.000000      2.000000   \n",
       "\n",
       "           ...            pwgtp71       pwgtp72       pwgtp73       pwgtp74  \\\n",
       "count      ...       58154.000000  58154.000000  58154.000000  58154.000000   \n",
       "mean       ...          85.844018     85.928741     85.882880     85.869760   \n",
       "std        ...          77.667171     77.858660     75.838684     77.875473   \n",
       "min        ...           0.000000      0.000000      0.000000      0.000000   \n",
       "25%        ...          33.000000     32.000000     35.000000     33.000000   \n",
       "50%        ...          67.000000     67.000000     67.000000     67.000000   \n",
       "75%        ...         111.000000    111.000000    111.000000    110.000000   \n",
       "max        ...        1113.000000   1335.000000    904.000000   1098.000000   \n",
       "\n",
       "            pwgtp75       pwgtp76       pwgtp77       pwgtp78       pwgtp79  \\\n",
       "count  58154.000000  58154.000000  58154.000000  58154.000000  58154.000000   \n",
       "mean      85.875795     85.813409     85.945902     85.953933     85.907332   \n",
       "std       76.747467     76.774422     77.658935     77.688309     75.916360   \n",
       "min        0.000000      0.000000      0.000000      0.000000      0.000000   \n",
       "25%       34.000000     35.000000     34.000000     34.000000     36.000000   \n",
       "50%       67.000000     67.000000     67.000000     67.000000     68.000000   \n",
       "75%      111.000000    110.000000    110.750000    111.000000    110.000000   \n",
       "max     1139.000000   1114.000000   1671.000000   1630.000000   1070.000000   \n",
       "\n",
       "            pwgtp80  \n",
       "count  58154.000000  \n",
       "mean      85.895192  \n",
       "std       78.512048  \n",
       "min        0.000000  \n",
       "25%       33.000000  \n",
       "50%       67.000000  \n",
       "75%      111.000000  \n",
       "max     1218.000000  \n",
       "\n",
       "[8 rows x 264 columns]"
      ]
     },
     "execution_count": 7,
     "metadata": {},
     "output_type": "execute_result"
    }
   ],
   "source": [
    "census65.describe()"
   ]
  },
  {
   "cell_type": "code",
   "execution_count": 10,
   "metadata": {
    "collapsed": false
   },
   "outputs": [],
   "source": [
    "Total = census65[['AGEP']].count()"
   ]
  },
  {
   "cell_type": "code",
   "execution_count": 11,
   "metadata": {
    "collapsed": false
   },
   "outputs": [
    {
     "data": {
      "text/plain": [
       "AGEP    58154\n",
       "dtype: int64"
      ]
     },
     "execution_count": 11,
     "metadata": {},
     "output_type": "execute_result"
    }
   ],
   "source": [
    "Total"
   ]
  },
  {
   "cell_type": "code",
   "execution_count": 29,
   "metadata": {
    "collapsed": false
   },
   "outputs": [],
   "source": [
    "%matplotlib inline\n",
    "import matplotlib.pyplot as plt\n",
    "import numpy as np\n",
    "import matplotlib as mpl "
   ]
  },
  {
   "cell_type": "code",
   "execution_count": 13,
   "metadata": {
    "collapsed": false
   },
   "outputs": [],
   "source": [
    "census65NO = census[(census.AGEP >= 65) & (census.DEYE == 2) & (census.DPHY == 2) & (census.DDRS == 2) & (census.DEAR == 2) & (census.DOUT == 2) & (census.DREM == 2)]"
   ]
  },
  {
   "cell_type": "code",
   "execution_count": 14,
   "metadata": {
    "collapsed": false
   },
   "outputs": [],
   "source": [
    "TotalNO = census65NO[['AGEP']].count()"
   ]
  },
  {
   "cell_type": "code",
   "execution_count": 15,
   "metadata": {
    "collapsed": false
   },
   "outputs": [
    {
     "name": "stdout",
     "output_type": "stream",
     "text": [
      "AGEP    0.632166\n",
      "dtype: float64\n"
     ]
    }
   ],
   "source": [
    "percentNO = TotalNO/Total\n",
    "print percentNO"
   ]
  },
  {
   "cell_type": "code",
   "execution_count": 40,
   "metadata": {
    "collapsed": false
   },
   "outputs": [
    {
     "data": {
      "image/png": "[encoded data removed]",
      "text/plain": [
       "<matplotlib.figure.Figure at 0x13111a510>"
      ]
     },
     "metadata": {},
     "output_type": "display_data"
    }
   ],
   "source": [
    "from pylab import *\n",
    "plt.figure(1, figsize=(6,6))\n",
    "plt.ax = plt.axes([0.1, 0.1, 0.8, 0.8])\n",
    "\n",
    "# The slices will be ordered and plotted counter-clockwise.\n",
    "labels = 'With disability', 'W/out disability'\n",
    "fracs = [1-percentNO, percentNO]\n",
    "explode=(0, 0)\n",
    "\n",
    "plt.pie(fracs, explode=explode, labels=labels,\n",
    "                autopct='%1.1f%%', shadow=True, startangle=90)\n",
    "                # The default startangle is 0, which would start\n",
    "                # the Frogs slice on the x-axis.  With startangle=90,\n",
    "                # everything is rotated counter-clockwise by 90 degrees,\n",
    "                # so the plotting starts on the positive y-axis.\n",
    "\n",
    "plt.title('Percentage of Disability in CA Seniors >=65 (n=58,154)', bbox={'facecolor':'0.8', 'pad':5})\n",
    "\n",
    "plt.show()"
   ]
  },
  {
   "cell_type": "code",
   "execution_count": null,
   "metadata": {
    "collapsed": false
   },
   "outputs": [],
   "source": []
  },
  {
   "cell_type": "code",
   "execution_count": 20,
   "metadata": {
    "collapsed": false
   },
   "outputs": [
    {
     "name": "stdout",
     "output_type": "stream",
     "text": [
      "3803\n",
      "54351\n"
     ]
    }
   ],
   "source": [
    "census65DEYE = census[(census.AGEP >= 65) & (census.DEYE == 1)]\n",
    "DEYEyes = census65DEYE[['DEYE']].count()\n",
    "DEYEyes = int(DEYEyes)\n",
    "DEYEno= int(Total) - int(DEYEyes)\n",
    "print DEYEyes\n",
    "print DEYEno"
   ]
  },
  {
   "cell_type": "code",
   "execution_count": 21,
   "metadata": {
    "collapsed": false
   },
   "outputs": [
    {
     "name": "stdout",
     "output_type": "stream",
     "text": [
      "14154\n",
      "44000\n"
     ]
    }
   ],
   "source": [
    "census65DPHY = census[(census.AGEP >= 65) & (census.DPHY == 1)]\n",
    "DPHYyes = census65DPHY[['DPHY']].count()\n",
    "DPHYyes = int(DPHYyes)\n",
    "DPHYno= int(Total) - int(DPHYyes)\n",
    "print DPHYyes\n",
    "print DPHYno"
   ]
  },
  {
   "cell_type": "code",
   "execution_count": 22,
   "metadata": {
    "collapsed": false
   },
   "outputs": [
    {
     "name": "stdout",
     "output_type": "stream",
     "text": [
      "6785\n",
      "51369\n"
     ]
    }
   ],
   "source": [
    "census65DDRS = census[(census.AGEP >= 65) & (census.DDRS == 1)]\n",
    "DDRSyes = census65DDRS[['DDRS']].count()\n",
    "DDRSyes = int(DDRSyes)\n",
    "DDRSno= int(Total) - int(DDRSyes)\n",
    "print DDRSyes\n",
    "print DDRSno"
   ]
  },
  {
   "cell_type": "code",
   "execution_count": 23,
   "metadata": {
    "collapsed": false
   },
   "outputs": [
    {
     "name": "stdout",
     "output_type": "stream",
     "text": [
      "8498\n",
      "49656\n"
     ]
    }
   ],
   "source": [
    "census65DEAR = census[(census.AGEP >= 65) & (census.DEAR == 1)]\n",
    "DEARyes = census65DEAR[['DEAR']].count()\n",
    "DEARyes = int(DEARyes)\n",
    "DEARno= int(Total) - int(DEARyes)\n",
    "print DEARyes\n",
    "print DEARno"
   ]
  },
  {
   "cell_type": "code",
   "execution_count": 24,
   "metadata": {
    "collapsed": false
   },
   "outputs": [
    {
     "name": "stdout",
     "output_type": "stream",
     "text": [
      "10889\n",
      "47265\n"
     ]
    }
   ],
   "source": [
    "census65DOUT = census[(census.AGEP >= 65) & (census.DOUT == 1)]\n",
    "DOUTyes = census65DOUT[['DOUT']].count()\n",
    "DOUTyes = int(DOUTyes)\n",
    "DOUTno= int(Total) - int(DOUTyes)\n",
    "print DOUTyes\n",
    "print DOUTno"
   ]
  },
  {
   "cell_type": "code",
   "execution_count": 25,
   "metadata": {
    "collapsed": false
   },
   "outputs": [
    {
     "name": "stdout",
     "output_type": "stream",
     "text": [
      "6482\n",
      "51672\n"
     ]
    }
   ],
   "source": [
    "census65DREM = census[(census.AGEP >= 65) & (census.DREM == 1)]\n",
    "DREMyes= census65DREM[['DREM']].count() \n",
    "DREMyes= int(DREMyes)\n",
    "DREMno= int(Total) - int(DREMyes)\n",
    "print DREMyes\n",
    "print DREMno"
   ]
  },
  {
   "cell_type": "code",
   "execution_count": 28,
   "metadata": {
    "collapsed": false
   },
   "outputs": [
    {
     "data": {
      "image/png": "[encoded data removed]",
      "text/plain": [
       "<matplotlib.figure.Figure at 0x109724750>"
      ]
     },
     "metadata": {},
     "output_type": "display_data"
    }
   ],
   "source": [
    "%matplotlib inline\n",
    "import matplotlib.pyplot as plt\n",
    "\n",
    "A = [DEYEno, DPHYno, DDRSno, DEARyes, DOUTyes, DREMno]\n",
    "B = [DEYEyes, DPHYyes, DDRSyes, DEARyes, DOUTyes, DREMyes]\n",
    "\n",
    "X = range(6)\n",
    "\n",
    "plt.bar(X, A, color = 'g')\n",
    "plt.bar(X, B, color = 'b', bottom = A)\n",
    "\n",
    "n_groups = 6\n",
    "index = np.arange(n_groups)\n",
    "bar_width = 0.35\n",
    "plt.xticks(index + bar_width, ('Vision', 'Ambulatory', 'Self-care', 'Hearing', 'Independent','Cognitive'))\n",
    "plt.xlabel('Disability')\n",
    "plt.ylabel('Count')\n",
    "plt.title('# of Seniors with (blue) and w/out (green) Disability in CA')\n",
    "\n",
    "plt.show()"
   ]
  },
  {
   "cell_type": "code",
   "execution_count": null,
   "metadata": {
    "collapsed": false
   },
   "outputs": [],
   "source": []
  },
  {
   "cell_type": "code",
   "execution_count": null,
   "metadata": {
    "collapsed": false
   },
   "outputs": [],
   "source": []
  },
  {
   "cell_type": "code",
   "execution_count": null,
   "metadata": {
    "collapsed": false
   },
   "outputs": [],
   "source": []
  }
 ],
 "metadata": {
  "kernelspec": {
   "display_name": "Python 2",
   "language": "python",
   "name": "python2"
  },
  "language_info": {
   "codemirror_mode": {
    "name": "ipython",
    "version": 2
   },
   "file_extension": ".py",
   "mimetype": "text/x-python",
   "name": "python",
   "nbconvert_exporter": "python",
   "pygments_lexer": "ipython2",
   "version": "2.7.11"
  }
 },
 "nbformat": 4,
 "nbformat_minor": 0
}
